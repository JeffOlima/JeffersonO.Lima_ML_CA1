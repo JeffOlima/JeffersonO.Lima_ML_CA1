{
 "cells": [
  {
   "cell_type": "markdown",
   "metadata": {},
   "source": [
    "### **CCT College Dublin**\n",
    "### **Lecture Name:** David McQuaid \n",
    "### **Module Title:** Machine Learning for AI \n",
    "### **Student Full Name:** Jefferson de Oliveira Lima\n",
    "### **Date of Submission:** 22/04/2024\n",
    "### **github:** https://github.com/JeffOlima/JeffersonO.Lima_ML_CA1.git"
   ]
  },
  {
   "cell_type": "code",
   "execution_count": null,
   "metadata": {},
   "outputs": [],
   "source": []
  },
  {
   "cell_type": "markdown",
   "metadata": {},
   "source": [
    "#### The first few rows of the DataFrame are shown by the following code, which allows you to evaluate its dimensions and structure. Additionally, it searches each column for any missing values. The frequency distribution of the category feature \"Action\" is shown using value_counts(), while summary statistics for numerical features are presented using describe(). When everything is considered, these functions help at the beginning of the analysis stage by offering perceptions into the accuracy, structure, and salient characteristics of the dataset, which guide the subsequent stages of model development and analysis."
   ]
  },
  {
   "cell_type": "code",
   "execution_count": 1,
   "metadata": {},
   "outputs": [
    {
     "name": "stdout",
     "output_type": "stream",
     "text": [
      "First few rows of the dataset:\n",
      "   Source Port  Destination Port  NAT Source Port  NAT Destination Port  \\\n",
      "0        57222                53            54587                    53   \n",
      "1        56258              3389            56258                  3389   \n",
      "2         6881             50321            43265                 50321   \n",
      "3        50553              3389            50553                  3389   \n",
      "4        50002               443            45848                   443   \n",
      "\n",
      "   Bytes  Bytes Sent  Bytes Received  Packets  Elapsed Time (sec)  pkts_sent  \\\n",
      "0    177          94              83        2                  30          1   \n",
      "1   4768        1600            3168       19                  17         10   \n",
      "2    238         118             120        2                1199          1   \n",
      "3   3327        1438            1889       15                  17          8   \n",
      "4  25358        6778           18580       31                  16         13   \n",
      "\n",
      "   pkts_received Action  \n",
      "0              1  allow  \n",
      "1              9  allow  \n",
      "2              1  allow  \n",
      "3              7  allow  \n",
      "4             18  allow  \n",
      "\n",
      "Number of rows and columns in the dataset:\n",
      "(65532, 12)\n",
      "\n",
      "Missing values in the dataset:\n",
      "Source Port             0\n",
      "Destination Port        0\n",
      "NAT Source Port         0\n",
      "NAT Destination Port    0\n",
      "Bytes                   0\n",
      "Bytes Sent              0\n",
      "Bytes Received          0\n",
      "Packets                 0\n",
      "Elapsed Time (sec)      0\n",
      "pkts_sent               0\n",
      "pkts_received           0\n",
      "Action                  0\n",
      "dtype: int64\n",
      "\n",
      "Summary statistics for numerical features:\n",
      "        Source Port  Destination Port  NAT Source Port  NAT Destination Port  \\\n",
      "count  65532.000000      65532.000000     65532.000000          65532.000000   \n",
      "mean   49391.969343      10577.385812     19282.972761           2671.049930   \n",
      "std    15255.712537      18466.027039     21970.689669           9739.162278   \n",
      "min        0.000000          0.000000         0.000000              0.000000   \n",
      "25%    49183.000000         80.000000         0.000000              0.000000   \n",
      "50%    53776.500000        445.000000      8820.500000             53.000000   \n",
      "75%    58638.000000      15000.000000     38366.250000            443.000000   \n",
      "max    65534.000000      65535.000000     65535.000000          65535.000000   \n",
      "\n",
      "              Bytes    Bytes Sent  Bytes Received       Packets  \\\n",
      "count  6.553200e+04  6.553200e+04    6.553200e+04  6.553200e+04   \n",
      "mean   9.712395e+04  2.238580e+04    7.473815e+04  1.028660e+02   \n",
      "std    5.618439e+06  3.828139e+06    2.463208e+06  5.133002e+03   \n",
      "min    6.000000e+01  6.000000e+01    0.000000e+00  1.000000e+00   \n",
      "25%    6.600000e+01  6.600000e+01    0.000000e+00  1.000000e+00   \n",
      "50%    1.680000e+02  9.000000e+01    7.900000e+01  2.000000e+00   \n",
      "75%    7.522500e+02  2.100000e+02    4.490000e+02  6.000000e+00   \n",
      "max    1.269359e+09  9.484772e+08    3.208818e+08  1.036116e+06   \n",
      "\n",
      "       Elapsed Time (sec)      pkts_sent  pkts_received  \n",
      "count        65532.000000   65532.000000   65532.000000  \n",
      "mean            65.833577      41.399530      61.466505  \n",
      "std            302.461762    3218.871288    2223.332271  \n",
      "min              0.000000       1.000000       0.000000  \n",
      "25%              0.000000       1.000000       0.000000  \n",
      "50%             15.000000       1.000000       1.000000  \n",
      "75%             30.000000       3.000000       2.000000  \n",
      "max          10824.000000  747520.000000  327208.000000  \n",
      "\n",
      "Frequency of the 'Action' column:\n",
      "Action\n",
      "allow         37640\n",
      "deny          14987\n",
      "drop          12851\n",
      "reset-both       54\n",
      "Name: count, dtype: int64\n"
     ]
    }
   ],
   "source": [
    "import pandas as pd\n",
    "import matplotlib.pyplot as plt\n",
    "import seaborn as sns\n",
    "import numpy as np\n",
    "\n",
    "# Load the dataset\n",
    "df = pd.read_csv(\"./log2.csv\")\n",
    "\n",
    "# Display the first few rows of the dataset\n",
    "print(\"First few rows of the dataset:\")\n",
    "print(df.head())\n",
    "\n",
    "# Display the number of rows and columns in the dataset\n",
    "print(\"\\nNumber of rows and columns in the dataset:\")\n",
    "print(df.shape)\n",
    "\n",
    "# Check for missing values\n",
    "print(\"\\nMissing values in the dataset:\")\n",
    "print(df.isnull().sum())\n",
    "\n",
    "# Summary statistics for numerical features\n",
    "print(\"\\nSummary statistics for numerical features:\")\n",
    "print(df.describe())\n",
    "\n",
    "# Frequency of categorical feature \"Action\"\n",
    "print(\"\\nFrequency of the 'Action' column:\")\n",
    "print(df['Action'].value_counts())"
   ]
  },
  {
   "cell_type": "markdown",
   "metadata": {},
   "source": [
    "#### For the reason of classifying network traffic data, the following code prepares the data. Using one-hot encoding, it first converts the categorical feature \"Action\" into numerical values, generating binary columns for each category. Then, in order to ensure equal scales, it scales the numerical characteristics using StandardScaler, which can enhance the efficiency of various classification methods. Following data preparation, the dataset is divided in an 80-20 ratio into training and testing sets. The output, which displays the shapes of the training and testing sets for both features and the target variable, validates that the dataset was successfully split. There are 52,425 samples with 11 features in the training set and 13,107 samples with 11 features in the testing set.In the same way, the testing set has dimensions (13,107, 4) while the training set's target variable has dimensions (52,425, 4), which reflect the one-hot encoded categories. The produced datasets can now be used for model evaluation and training."
   ]
  },
  {
   "cell_type": "code",
   "execution_count": 2,
   "metadata": {},
   "outputs": [
    {
     "name": "stdout",
     "output_type": "stream",
     "text": [
      "Shape of X_train: (52425, 11)\n",
      "Shape of X_test: (13107, 11)\n",
      "Shape of y_train: (52425, 4)\n",
      "Shape of y_test: (13107, 4)\n"
     ]
    }
   ],
   "source": [
    "from sklearn.model_selection import train_test_split\n",
    "from sklearn.preprocessing import OneHotEncoder, StandardScaler\n",
    "\n",
    "\n",
    "df_encoded = pd.get_dummies(df, columns=['Action'])\n",
    "\n",
    "X = df_encoded.drop(columns=['Action_allow', 'Action_deny', 'Action_drop', 'Action_reset-both'])\n",
    "y = df_encoded[['Action_allow', 'Action_deny', 'Action_drop', 'Action_reset-both']]\n",
    "\n",
    "scaler = StandardScaler()\n",
    "X_scaled = scaler.fit_transform(X)\n",
    "\n",
    "X_train, X_test, y_train, y_test = train_test_split(X_scaled, y, test_size=0.2, random_state=42)\n",
    "\n",
    "print(\"Shape of X_train:\", X_train.shape)\n",
    "print(\"Shape of X_test:\", X_test.shape)\n",
    "print(\"Shape of y_train:\", y_train.shape)\n",
    "print(\"Shape of y_test:\", y_test.shape)"
   ]
  },
  {
   "cell_type": "markdown",
   "metadata": {},
   "source": [
    "#### The following code implements two classification algorithms, Logistic Regression and K-Nearest Neighbors (KNN), to predict the class attribute based on input features. The dataset is divided into training and testing sets, and then features are scaled uniformly using StandardScaler. After that, both models are trained using the scaled training set, and MultiOutputClassifier is used to extend Logistic Regression to handle multi-label classification. Calculating accuracy and producing classification reports that include information on precision, recall, and F1-score for every class are two aspects of the model evaluation process. Although both models attain high accuracy, KNN performs better than Logistic Regression on every metric, indicating that it is the better option for this classification assignment."
   ]
  },
  {
   "cell_type": "code",
   "execution_count": 3,
   "metadata": {},
   "outputs": [
    {
     "name": "stdout",
     "output_type": "stream",
     "text": [
      "Accuracy of Logistic Regression: 0.9654383154039826\n",
      "Classification Report for Logistic Regression:\n",
      "              precision    recall  f1-score   support\n",
      "\n",
      "           0       1.00      0.99      1.00      7545\n",
      "           1       0.99      0.88      0.93      2994\n",
      "           2       0.94      1.00      0.97      2562\n",
      "           3       1.00      0.00      0.00         6\n",
      "\n",
      "   micro avg       0.98      0.97      0.98     13107\n",
      "   macro avg       0.98      0.72      0.72     13107\n",
      "weighted avg       0.98      0.97      0.98     13107\n",
      " samples avg       0.99      0.97      0.97     13107\n",
      "\n",
      "Accuracy of KNN Classifier: 0.9971770809491112\n",
      "Classification Report for KNN Classifier:\n",
      "              precision    recall  f1-score   support\n",
      "\n",
      "           0       1.00      1.00      1.00      7545\n",
      "           1       0.99      0.99      0.99      2994\n",
      "           2       1.00      1.00      1.00      2562\n",
      "           3       1.00      0.00      0.00         6\n",
      "\n",
      "   micro avg       1.00      1.00      1.00     13107\n",
      "   macro avg       1.00      0.75      0.75     13107\n",
      "weighted avg       1.00      1.00      1.00     13107\n",
      " samples avg       1.00      1.00      1.00     13107\n",
      "\n"
     ]
    }
   ],
   "source": [
    "from sklearn.model_selection import train_test_split\n",
    "from sklearn.preprocessing import StandardScaler\n",
    "from sklearn.linear_model import LogisticRegression\n",
    "from sklearn.metrics import accuracy_score, classification_report\n",
    "from sklearn.multioutput import MultiOutputClassifier\n",
    "from sklearn.neighbors import KNeighborsClassifier\n",
    "\n",
    "scaler = StandardScaler()\n",
    "X_train_scaled = scaler.fit_transform(X_train)\n",
    "X_test_scaled = scaler.transform(X_test)\n",
    "\n",
    "logistic_regression = LogisticRegression(max_iter=1000, random_state=42)\n",
    "multi_target_logistic_regression = MultiOutputClassifier(logistic_regression)\n",
    "multi_target_logistic_regression.fit(X_train_scaled, y_train)\n",
    "\n",
    "y_pred = multi_target_logistic_regression.predict(X_test_scaled)\n",
    "accuracy = accuracy_score(y_test, y_pred)\n",
    "print(\"Accuracy of Logistic Regression:\", accuracy)\n",
    "\n",
    "print(\"Classification Report for Logistic Regression:\")\n",
    "print(classification_report(y_test, y_pred, zero_division=1))\n",
    "\n",
    "knn_classifier = KNeighborsClassifier()\n",
    "knn_classifier.fit(X_train_scaled, y_train)\n",
    "\n",
    "y_pred_knn = knn_classifier.predict(X_test_scaled)\n",
    "accuracy_knn = accuracy_score(y_test, y_pred_knn)\n",
    "print(\"Accuracy of KNN Classifier:\", accuracy_knn)\n",
    "\n",
    "print(\"Classification Report for KNN Classifier:\")\n",
    "print(classification_report(y_test, y_pred_knn, zero_division=1))\n"
   ]
  },
  {
   "cell_type": "markdown",
   "metadata": {},
   "source": [
    "#### The following code assesses the accuracy of the trained KNN classifier on the test and training datasets using the accuracy_score function from sklearn.metrics. The accuracy attained on the test set and the training set are contrasted. The output shows that the precision of both sets is exactly the same, suggesting reliable functioning. This resemblance suggests that the model has successfully learned from the training data and can generalise to new data, as evidenced by its high accuracy on the test set. The model's prediction ability is hence reliable and constant."
   ]
  },
  {
   "cell_type": "code",
   "execution_count": 4,
   "metadata": {},
   "outputs": [
    {
     "name": "stdout",
     "output_type": "stream",
     "text": [
      "Accuracy on Test Set: 0.9971770809491112\n",
      "Accuracy on Training Set (KNN Classifier): 0.9971770809491112\n",
      "The model has similar performance on both the training and test sets.\n"
     ]
    }
   ],
   "source": [
    "from sklearn.metrics import accuracy_score\n",
    "\n",
    "test_accuracy = accuracy_score(y_test, y_pred_knn)\n",
    "print(\"Accuracy on Test Set:\", test_accuracy)\n",
    "\n",
    "print(\"Accuracy on Training Set (KNN Classifier):\", accuracy_knn)\n",
    "\n",
    "if test_accuracy > accuracy_knn:\n",
    "    print(\"The model performs better on the test set compared to the training set.\")\n",
    "elif test_accuracy < accuracy_knn:\n",
    "    print(\"The model performs better on the training set compared to the test set.\")\n",
    "else:\n",
    "    print(\"The model has similar performance on both the training and test sets.\")"
   ]
  },
  {
   "cell_type": "markdown",
   "metadata": {},
   "source": [
    "#### The following code predicts the action for a new set of input data using the trained K-Nearest Neighbors (KNN) classifier. The input data X_new represents a single observation with specific features. The predict method of the knn_classifier model is used to predict the action based on the input data. The output [1 0 0 0] indicates that the model predicts with high confidence that the action will be \"allow,\" as the first element has a probability of 1, while the other elements have probabilities of 0."
   ]
  },
  {
   "cell_type": "code",
   "execution_count": 5,
   "metadata": {},
   "outputs": [
    {
     "name": "stdout",
     "output_type": "stream",
     "text": [
      "Predicted Action: [[ True False False False]]\n"
     ]
    }
   ],
   "source": [
    "X_new = [[1000, 80, 40000, 80, 1000, 500, 500, 10, 60, 5, 5]]\n",
    "\n",
    "predicted_action = knn_classifier.predict(X_new)\n",
    "\n",
    "print(\"Predicted Action:\", predicted_action)\n"
   ]
  }
 ],
 "metadata": {
  "kernelspec": {
   "display_name": "base",
   "language": "python",
   "name": "python3"
  },
  "language_info": {
   "codemirror_mode": {
    "name": "ipython",
    "version": 3
   },
   "file_extension": ".py",
   "mimetype": "text/x-python",
   "name": "python",
   "nbconvert_exporter": "python",
   "pygments_lexer": "ipython3",
   "version": "3.11.4"
  }
 },
 "nbformat": 4,
 "nbformat_minor": 2
}
